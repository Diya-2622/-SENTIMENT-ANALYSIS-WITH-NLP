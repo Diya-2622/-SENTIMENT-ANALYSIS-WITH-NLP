import pandas as pd
import numpy as np
import re
import string
import matplotlib.pyplot as plt
from sklearn.model_selection import train_test_split
from sklearn.feature_extraction.text import TfidfVectorizer
from sklearn.linear_model import LogisticRegression
from sklearn.metrics import accuracy_score, classification_report, confusion_matrix, ConfusionMatrixDisplay

# Sample dataset with different examples
data = pd.DataFrame({
    'review': [
        "The movie was absolutely fantastic! I loved every moment.",
        "Terrible service at the restaurant. I won't be coming back.",
        "An average experience, nothing too special about it.",
        "Best concert I've ever attended. Highly recommended!",
        "The book was a waste of time, completely boring and dull.",
        "Decent food but took way too long to be served.",
        "Absolutely amazing customer support! Very helpful staff.",
        "Would not recommend this product to anyone. Poor quality."
    ],
    'sentiment': ['positive', 'negative', 'neutral', 'positive', 'negative', 'neutral', 'positive', 'negative']
})

# Preprocess text
def clean_text(text):
    text = text.lower()  # Convert to lowercase
    text = re.sub(f"[{string.punctuation}]", "", text)  # Remove punctuation
    text = re.sub("\d+", "", text)  # Remove numbers
    return text

data['cleaned_review'] = data['review'].apply(clean_text)

# Split data into training and testing sets
X_train, X_test, y_train, y_test = train_test_split(data['cleaned_review'], data['sentiment'], test_size=0.2, random_state=42)

# Convert text to numerical format using TF-IDF Vectorization
tfidf = TfidfVectorizer(max_features=5000, stop_words='english')
X_train_tfidf = tfidf.fit_transform(X_train)
X_test_tfidf = tfidf.transform(X_test)

# Train Logistic Regression Model
model = LogisticRegression()
model.fit(X_train_tfidf, y_train)

# Make predictions
y_pred = model.predict(X_test_tfidf)

# Evaluate the model
accuracy = accuracy_score(y_test, y_pred)
print(f'Accuracy: {accuracy:.2f}')
print("Classification Report:\n", classification_report(y_test, y_pred, zero_division=0))

# Confusion Matrix
display = ConfusionMatrixDisplay(confusion_matrix(y_test, y_pred), display_labels=model.classes_)
display.plot(cmap='Blues')
plt.show()
